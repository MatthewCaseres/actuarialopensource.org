{
 "cells": [
  {
   "cell_type": "code",
   "execution_count": 17,
   "metadata": {},
   "outputs": [
    {
     "name": "stdout",
     "output_type": "stream",
     "text": [
      "interest_rate = [0.050420168067226934, 0.030303030303030276, 0.019867549668874274, 0.010033444816053505, 0.07942238267148016]\n"
     ]
    }
   ],
   "source": [
    "pv = [1, 0.952, 0.924, 0.906, 0.897, 0.831]\n",
    "\n",
    "# This function is called in O(1) time.\n",
    "def v(i, j):\n",
    "    return pv[j]/pv[i]\n",
    "\n",
    "# interest_rate[i] = interest from i to i+1\n",
    "interest_rate = [v(i, i+1)**-1 - 1 for i in range(len(pv)-1)]\n",
    "print(f\"{interest_rate = }\")"
   ]
  },
  {
   "cell_type": "code",
   "execution_count": null,
   "metadata": {},
   "outputs": [],
   "source": [
    "[1, 0.95238, 0.92464, 0.90651, 0.8975, 0.8310, 0.76949]"
   ]
  }
 ],
 "metadata": {
  "kernelspec": {
   "display_name": "base",
   "language": "python",
   "name": "python3"
  },
  "language_info": {
   "codemirror_mode": {
    "name": "ipython",
    "version": 3
   },
   "file_extension": ".py",
   "mimetype": "text/x-python",
   "name": "python",
   "nbconvert_exporter": "python",
   "pygments_lexer": "ipython3",
   "version": "3.10.8"
  },
  "orig_nbformat": 4
 },
 "nbformat": 4,
 "nbformat_minor": 2
}
