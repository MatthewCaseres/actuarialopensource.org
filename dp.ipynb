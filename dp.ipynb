{
 "cells": [
  {
   "cell_type": "code",
   "execution_count": 66,
   "metadata": {},
   "outputs": [],
   "source": [
    "\n",
    "def q(t):\n",
    "    return t/100\n",
    "\n",
    "PRINT=True\n",
    "\n",
    "def pols_if(t):\n",
    "    if PRINT == True:\n",
    "        print(f\"pols_if({t})\")\n",
    "    if t == 0:\n",
    "        return 1\n",
    "    return (1 - q(t)) * pols_if(t-1)\n",
    "\n",
    "v = (1/1.02)\n",
    "\n",
    "def annuity_no_cache(n):\n",
    "    \"\"\"Present value of death benefits up to n\"\"\"\n",
    "    return sum(pols_if(t)*v**t for t in range(n))\n",
    "\n"
   ]
  },
  {
   "cell_type": "code",
   "execution_count": 67,
   "metadata": {},
   "outputs": [
    {
     "name": "stdout",
     "output_type": "stream",
     "text": [
      "pols_if(0)\n",
      "pols_if(1)\n",
      "pols_if(0)\n",
      "pols_if(2)\n",
      "pols_if(1)\n",
      "pols_if(0)\n",
      "pols_if(3)\n",
      "pols_if(2)\n",
      "pols_if(1)\n",
      "pols_if(0)\n",
      "pols_if(4)\n",
      "pols_if(3)\n",
      "pols_if(2)\n",
      "pols_if(1)\n",
      "pols_if(0)\n"
     ]
    },
    {
     "data": {
      "text/plain": [
       "4.624576453825983"
      ]
     },
     "execution_count": 67,
     "metadata": {},
     "output_type": "execute_result"
    }
   ],
   "source": [
    "annuity_no_cache(5)"
   ]
  },
  {
   "cell_type": "code",
   "execution_count": 68,
   "metadata": {},
   "outputs": [],
   "source": [
    "from functools import cache\n",
    "\n",
    "@cache\n",
    "def pols_if_cache(t):\n",
    "    if PRINT == True:\n",
    "        print(f\"pols_if({t})\")\n",
    "    if t == 0:\n",
    "        return 1\n",
    "    return (1 - q(t)) * pols_if_cache(t-1)\n",
    "\n",
    "def annuity_cache(n):\n",
    "    \"\"\"Present value of death benefits up to n\"\"\"\n",
    "    return sum(pols_if_cache(t)*v**t for t in range(n))"
   ]
  },
  {
   "cell_type": "code",
   "execution_count": 69,
   "metadata": {},
   "outputs": [
    {
     "name": "stdout",
     "output_type": "stream",
     "text": [
      "pols_if(0)\n",
      "pols_if(1)\n",
      "pols_if(2)\n",
      "pols_if(3)\n",
      "pols_if(4)\n"
     ]
    },
    {
     "data": {
      "text/plain": [
       "4.624576453825983"
      ]
     },
     "execution_count": 69,
     "metadata": {},
     "output_type": "execute_result"
    }
   ],
   "source": [
    "annuity_cache(5)"
   ]
  },
  {
   "cell_type": "code",
   "execution_count": 70,
   "metadata": {},
   "outputs": [],
   "source": [
    "from functools import lru_cache\n",
    "\n",
    "@lru_cache(maxsize=1)\n",
    "def pols_if_lru1(t):\n",
    "    if PRINT == True:\n",
    "        print(f\"pols_if({t})\")\n",
    "    if t == 0:\n",
    "        return 1\n",
    "    return (1 - q(t)) * pols_if_lru1(t-1)\n",
    "\n",
    "def annuity_lru1(n):\n",
    "    \"\"\"Present value of death benefits up to n\"\"\"\n",
    "    return sum(pols_if_lru1(t)*v**t for t in range(n))"
   ]
  },
  {
   "cell_type": "code",
   "execution_count": 71,
   "metadata": {},
   "outputs": [
    {
     "name": "stdout",
     "output_type": "stream",
     "text": [
      "pols_if(0)\n",
      "pols_if(1)\n",
      "pols_if(2)\n",
      "pols_if(3)\n",
      "pols_if(4)\n"
     ]
    },
    {
     "data": {
      "text/plain": [
       "4.624576453825983"
      ]
     },
     "execution_count": 71,
     "metadata": {},
     "output_type": "execute_result"
    }
   ],
   "source": [
    "annuity_lru1(5)"
   ]
  },
  {
   "cell_type": "code",
   "execution_count": 76,
   "metadata": {},
   "outputs": [
    {
     "name": "stdout",
     "output_type": "stream",
     "text": [
      "annuity_no_cache:  1.1617160420064465\n",
      "annuity_cache:  0.01652533299784409\n",
      "annuity_lru1:  0.045709709003858734\n"
     ]
    }
   ],
   "source": [
    "# run annuity1(100) 100 times, how long does it take\n",
    "from timeit import timeit\n",
    "PRINT = False\n",
    "print('annuity_no_cache: ', timeit('annuity_no_cache(100)', globals=globals(), number=1000))\n",
    "print('annuity_cache: ', timeit('annuity_cache(100)', globals=globals(), number=1000))\n",
    "print('annuity_lru1: ', timeit('annuity_lru1(100)', globals=globals(), number=1000))"
   ]
  },
  {
   "cell_type": "code",
   "execution_count": 77,
   "metadata": {},
   "outputs": [
    {
     "ename": "ModuleNotFoundError",
     "evalue": "No module named 'numpy'",
     "output_type": "error",
     "traceback": [
      "\u001b[0;31m---------------------------------------------------------------------------\u001b[0m",
      "\u001b[0;31mModuleNotFoundError\u001b[0m                       Traceback (most recent call last)",
      "Cell \u001b[0;32mIn [77], line 1\u001b[0m\n\u001b[0;32m----> 1\u001b[0m \u001b[39mimport\u001b[39;00m \u001b[39mnumpy\u001b[39;00m \u001b[39mas\u001b[39;00m \u001b[39mnp\u001b[39;00m\n",
      "\u001b[0;31mModuleNotFoundError\u001b[0m: No module named 'numpy'"
     ]
    }
   ],
   "source": [
    "import numpy as np"
   ]
  },
  {
   "cell_type": "code",
   "execution_count": 80,
   "metadata": {},
   "outputs": [
    {
     "name": "stdout",
     "output_type": "stream",
     "text": [
      "[1, 0.99, 0.9702, 0.9410939999999999, 0.9034502399999998]\n"
     ]
    }
   ],
   "source": [
    "arr = [1]*5\n",
    "for t in range(1,5):\n",
    "    arr[t] = arr[t-1]*(1-t/100)\n",
    "print(arr)"
   ]
  }
 ],
 "metadata": {
  "kernelspec": {
   "display_name": "Python 3.9.2 64-bit",
   "language": "python",
   "name": "python3"
  },
  "language_info": {
   "codemirror_mode": {
    "name": "ipython",
    "version": 3
   },
   "file_extension": ".py",
   "mimetype": "text/x-python",
   "name": "python",
   "nbconvert_exporter": "python",
   "pygments_lexer": "ipython3",
   "version": "3.9.2"
  },
  "orig_nbformat": 4,
  "vscode": {
   "interpreter": {
    "hash": "31f2aee4e71d21fbe5cf8b01ff0e069b9275f58929596ceb00d14d90e3e16cd6"
   }
  }
 },
 "nbformat": 4,
 "nbformat_minor": 2
}
