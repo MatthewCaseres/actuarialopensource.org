{
 "cells": [
  {
   "cell_type": "code",
   "execution_count": 22,
   "metadata": {},
   "outputs": [],
   "source": [
    "def q(t):\n",
    "    return t/100\n",
    "\n",
    "PRINT=True\n",
    "\n",
    "def pols_if(t):\n",
    "    if PRINT == True:\n",
    "        print(f\"pols_if({t})\")\n",
    "    if t == 0:\n",
    "        return 1\n",
    "    return (1 - q(t)) * pols_if(t-1)"
   ]
  },
  {
   "cell_type": "code",
   "execution_count": 12,
   "metadata": {},
   "outputs": [
    {
     "name": "stdout",
     "output_type": "stream",
     "text": [
      "pols_if(0)\n",
      "pols_if(1)\n",
      "pols_if(0)\n",
      "pols_if(2)\n",
      "pols_if(1)\n",
      "pols_if(0)\n",
      "pols_if(3)\n",
      "pols_if(2)\n",
      "pols_if(1)\n",
      "pols_if(0)\n",
      "pols_if(4)\n",
      "pols_if(3)\n",
      "pols_if(2)\n",
      "pols_if(1)\n",
      "pols_if(0)\n"
     ]
    },
    {
     "data": {
      "text/plain": [
       "[1, 0.99, 0.9702, 0.9410939999999999, 0.9034502399999998]"
      ]
     },
     "execution_count": 12,
     "metadata": {},
     "output_type": "execute_result"
    }
   ],
   "source": [
    "[pols_if(t) for t in range(5)]"
   ]
  },
  {
   "cell_type": "code",
   "execution_count": 26,
   "metadata": {},
   "outputs": [],
   "source": [
    "from functools import cache\n",
    "PRINT=False\n",
    "@cache\n",
    "def pols_if_cache(t):\n",
    "    if PRINT == True:\n",
    "        print(f\"pols_if({t})\")\n",
    "    if t == 0:\n",
    "        return 1\n",
    "    return (1 - q(t)) * pols_if_cache(t-1)"
   ]
  },
  {
   "cell_type": "code",
   "execution_count": 14,
   "metadata": {},
   "outputs": [
    {
     "name": "stdout",
     "output_type": "stream",
     "text": [
      "pols_if(0)\n",
      "pols_if(1)\n",
      "pols_if(2)\n",
      "pols_if(3)\n",
      "pols_if(4)\n"
     ]
    },
    {
     "data": {
      "text/plain": [
       "[1, 0.99, 0.9702, 0.9410939999999999, 0.9034502399999998]"
      ]
     },
     "execution_count": 14,
     "metadata": {},
     "output_type": "execute_result"
    }
   ],
   "source": [
    "[pols_if_cache(t) for t in range(5)]"
   ]
  },
  {
   "cell_type": "code",
   "execution_count": 23,
   "metadata": {},
   "outputs": [],
   "source": [
    "from functools import lru_cache\n",
    "\n",
    "@lru_cache(maxsize=1)\n",
    "def pols_if_lru1(t):\n",
    "    if PRINT == True:\n",
    "        print(f\"pols_if({t})\")\n",
    "    if t == 0:\n",
    "        return 1\n",
    "    return (1 - q(t)) * pols_if_lru1(t-1)\n",
    "\n",
    "def annuity_lru1(n):\n",
    "    \"\"\"Present value of death benefits up to n\"\"\"\n",
    "    return sum(pols_if_lru1(t)*v**t for t in range(n))"
   ]
  },
  {
   "cell_type": "code",
   "execution_count": 24,
   "metadata": {},
   "outputs": [
    {
     "name": "stdout",
     "output_type": "stream",
     "text": [
      "pols_if(0)\n",
      "pols_if(1)\n",
      "pols_if(2)\n",
      "pols_if(3)\n",
      "pols_if(4)\n"
     ]
    },
    {
     "data": {
      "text/plain": [
       "[1, 0.99, 0.9702, 0.9410939999999999, 0.9034502399999998]"
      ]
     },
     "execution_count": 24,
     "metadata": {},
     "output_type": "execute_result"
    }
   ],
   "source": [
    "[pols_if_lru1(t) for t in range(5)]"
   ]
  },
  {
   "cell_type": "code",
   "execution_count": 27,
   "metadata": {},
   "outputs": [
    {
     "name": "stdout",
     "output_type": "stream",
     "text": [
      "1.7 µs ± 2.79 ns per loop (mean ± std. dev. of 7 runs, 1,000,000 loops each)\n",
      "303 ns ± 0.811 ns per loop (mean ± std. dev. of 7 runs, 1,000,000 loops each)\n",
      "987 ns ± 3.31 ns per loop (mean ± std. dev. of 7 runs, 1,000,000 loops each)\n"
     ]
    }
   ],
   "source": [
    "PRINT=False\n",
    "# performance testing for the above list comprehension\n",
    "%timeit [pols_if(t) for t in range(5)]\n",
    "%timeit [pols_if_cache(t) for t in range(5)]\n",
    "%timeit [pols_if_lru1(t) for t in range(5)]\n"
   ]
  }
 ],
 "metadata": {
  "kernelspec": {
   "display_name": "base",
   "language": "python",
   "name": "python3"
  },
  "language_info": {
   "codemirror_mode": {
    "name": "ipython",
    "version": 3
   },
   "file_extension": ".py",
   "mimetype": "text/x-python",
   "name": "python",
   "nbconvert_exporter": "python",
   "pygments_lexer": "ipython3",
   "version": "3.10.8"
  },
  "orig_nbformat": 4,
  "vscode": {
   "interpreter": {
    "hash": "3411cb5569bfa654523dedf6435551f8541a03553b9c3c8049c1a736dce79a8c"
   }
  }
 },
 "nbformat": 4,
 "nbformat_minor": 2
}
